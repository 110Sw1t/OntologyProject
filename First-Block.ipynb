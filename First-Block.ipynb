{
 "cells": [
  {
   "cell_type": "code",
   "execution_count": 1,
   "metadata": {},
   "outputs": [],
   "source": [
    "import tweepy\n",
    "import json\n",
    "import mwclient"
   ]
  },
  {
   "cell_type": "code",
   "execution_count": 2,
   "metadata": {},
   "outputs": [],
   "source": [
    "NO_OF_TWEETS = 100\n",
    "NO_OF_WIKIPEDIA_PAGES = 10\n",
    "hashtag = '#avengers'\n",
    "consumer_token = 'UHGeTe83gyWyYixF7RPUNkLZ2'\n",
    "consumer_secret = 'hIWynid8cNuMHMFvP5famIBPXCUXxYX5tBAWL5tSgoqswDO2f3'"
   ]
  },
  {
   "cell_type": "code",
   "execution_count": 3,
   "metadata": {},
   "outputs": [],
   "source": [
    "auth = tweepy.OAuthHandler(consumer_token, consumer_secret)\n",
    "api = tweepy.API(auth, wait_on_rate_limit=True);"
   ]
  },
  {
   "cell_type": "code",
   "execution_count": 4,
   "metadata": {},
   "outputs": [],
   "source": [
    "json_file = open(\"Output_json.txt\", \"w\",encoding='utf-8')\n",
    "tweets_file = open(\"tweets.txt\", \"w\",encoding='utf-8')\n",
    "wikipedia_file = open(\"wikipedia_output.txt\",\"w\",encoding='utf-8')"
   ]
  },
  {
   "cell_type": "code",
   "execution_count": 5,
   "metadata": {
    "scrolled": false
   },
   "outputs": [],
   "source": [
    "for tweet in tweepy.Cursor(api.search, lang = 'en', q=hashtag, rpp = 100, return_type = 'popular',tweet_mode = 'extended').items(NO_OF_TWEETS):\n",
    "    tweetString = \"\"\n",
    "    if 'retweeted_status' in tweet._json:\n",
    "        tweetString = tweet._json['retweeted_status']['full_text']\n",
    "    else:\n",
    "        tweetString = tweet.full_text\n",
    "    tweets_file.write(tweetString + '\\n\\n\\n')\n",
    "    json.dump(tweet._json, json_file)"
   ]
  },
  {
   "cell_type": "code",
   "execution_count": 6,
   "metadata": {},
   "outputs": [],
   "source": [
    "json_file.close()\n",
    "tweets_file.close()"
   ]
  },
  {
   "cell_type": "code",
   "execution_count": 7,
   "metadata": {
    "scrolled": false
   },
   "outputs": [],
   "source": [
    "site = mwclient.Site('en.wikipedia.org')\n",
    "i = 0\n",
    "for result in site.search(hashtag):\n",
    "    if(i == NO_OF_WIKIPEDIA_PAGES):\n",
    "        break\n",
    "    wikipedia_file.write(result.get('title') + '\\n')\n",
    "    i = i + 1  "
   ]
  },
  {
   "cell_type": "code",
   "execution_count": 8,
   "metadata": {},
   "outputs": [],
   "source": [
    "wikipedia_file.close()"
   ]
  }
 ],
 "metadata": {
  "kernelspec": {
   "display_name": "Python 3",
   "language": "python",
   "name": "python3"
  },
  "language_info": {
   "codemirror_mode": {
    "name": "ipython",
    "version": 3
   },
   "file_extension": ".py",
   "mimetype": "text/x-python",
   "name": "python",
   "nbconvert_exporter": "python",
   "pygments_lexer": "ipython3",
   "version": "3.6.4"
  }
 },
 "nbformat": 4,
 "nbformat_minor": 2
}
